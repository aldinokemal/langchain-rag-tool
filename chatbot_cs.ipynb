{
 "cells": [
  {
   "cell_type": "code",
   "execution_count": 1,
   "id": "286894f8-b437-44d0-8d62-8ed375004710",
   "metadata": {
    "tags": []
   },
   "outputs": [],
   "source": [
    "# %pip install langchain langchain-google-genai google-cloud-aiplatform faiss-cpu streamlit\n",
    "# %pip install pdfplumber pypdf"
   ]
  },
  {
   "cell_type": "code",
   "execution_count": 2,
   "id": "092f4674-bb8b-4e31-99a6-3a857aa99323",
   "metadata": {
    "tags": []
   },
   "outputs": [],
   "source": [
    "# import os\n",
    "# os.environ['GOOGLE_APPLICATION_CREDENTIALS'] = 'peerless-robot-457810-n0-8607a81b5ae9.json'"
   ]
  },
  {
   "cell_type": "code",
   "execution_count": 10,
   "id": "da758f9e-da91-46e2-904c-8a1857abd454",
   "metadata": {
    "collapsed": true,
    "jupyter": {
     "outputs_hidden": true
    },
    "tags": []
   },
   "outputs": [
    {
     "name": "stderr",
     "output_type": "stream",
     "text": [
      "CropBox missing from /Page, defaulting to MediaBox\n",
      "CropBox missing from /Page, defaulting to MediaBox\n",
      "CropBox missing from /Page, defaulting to MediaBox\n"
     ]
    }
   ],
   "source": [
    "from langchain_community.document_loaders import PDFPlumberLoader\n",
    "from langchain.document_loaders import PyPDFLoader\n",
    "from langchain.vectorstores import FAISS\n",
    "from langchain_google_genai import GoogleGenerativeAIEmbeddings\n",
    "from langchain.text_splitter import RecursiveCharacterTextSplitter\n",
    "\n",
    "loader = PDFPlumberLoader(\"panduan_investasi.pdf\")\n",
    "documents = loader.load()\n"
   ]
  },
  {
   "cell_type": "code",
   "execution_count": 11,
   "id": "0fb7bea9-e02c-495f-b354-6412b14047b4",
   "metadata": {
    "tags": []
   },
   "outputs": [],
   "source": [
    "# Split dokumen jadi potongan kecil\n",
    "text_splitter = RecursiveCharacterTextSplitter(chunk_size=500, chunk_overlap=50)\n",
    "docs_split = text_splitter.split_documents(documents)"
   ]
  },
  {
   "cell_type": "code",
   "execution_count": 12,
   "id": "e0342648-64a5-4284-ae11-8cb24f9e4e09",
   "metadata": {
    "collapsed": true,
    "jupyter": {
     "outputs_hidden": true
    },
    "tags": []
   },
   "outputs": [
    {
     "name": "stdout",
     "output_type": "stream",
     "text": [
      "Jumlah potongan dokumen: 6\n",
      "Panduan Umum Investasi di Bank\n",
      "1. 🧾 Pahami Tujuan dan Profil Risiko Investasi\n",
      "Sebelum mulai investasi, tentukan:\n",
      "● Tujuan investasi (misalnya: dana pendidikan, pensiun, beli rumah)\n",
      "● Jangka waktu investasi (jangka pendek, menengah, atau panjang)\n",
      "● Profil risiko: konservatif, moderat, atau agresif\n",
      "Ba\n"
     ]
    }
   ],
   "source": [
    "print(f\"Jumlah potongan dokumen: {len(docs_split)}\")\n",
    "print(docs_split[0].page_content[:300])  # Periksa isi potongan pertama"
   ]
  },
  {
   "cell_type": "code",
   "execution_count": 17,
   "id": "288d0a24-3e04-46dc-bb25-e6530c6bb547",
   "metadata": {
    "tags": []
   },
   "outputs": [],
   "source": [
    "from langchain.document_loaders import PyPDFLoader\n",
    "from langchain.vectorstores import FAISS\n",
    "from langchain_google_genai import GoogleGenerativeAIEmbeddings\n",
    "from langchain.text_splitter import RecursiveCharacterTextSplitter\n",
    "\n",
    "# Muat dokumen dari PDF\n",
    "loader = PyPDFLoader(\"panduan_investasi.pdf\")\n",
    "documents = loader.load()\n",
    "\n",
    "# Split dokumen jadi potongan kecil\n",
    "text_splitter = RecursiveCharacterTextSplitter(chunk_size=500, chunk_overlap=50)\n",
    "docs_split = text_splitter.split_documents(documents)\n",
    "\n",
    "# Konversi ke embedding\n",
    "embeddings = GoogleGenerativeAIEmbeddings(model=\"models/embedding-001\")\n",
    "vectorstore = FAISS.from_documents(docs_split, embeddings)\n"
   ]
  },
  {
   "cell_type": "code",
   "execution_count": 18,
   "id": "18766ded-59f4-425c-bde7-f99218c144e0",
   "metadata": {
    "tags": []
   },
   "outputs": [],
   "source": [
    "from langchain.chains import RetrievalQA\n",
    "from langchain_google_genai import ChatGoogleGenerativeAI\n",
    "\n",
    "retriever = vectorstore.as_retriever(search_kwargs={\"k\": 3})\n",
    "llm = ChatGoogleGenerativeAI(model=\"gemini-1.5-flash\", temperature=0.3)\n",
    "qa_chain = RetrievalQA.from_chain_type(llm=llm, retriever=retriever)\n"
   ]
  },
  {
   "cell_type": "code",
   "execution_count": 20,
   "id": "60050bf8-968f-4d33-b4f8-c2fd301b570e",
   "metadata": {
    "tags": []
   },
   "outputs": [
    {
     "name": "stdout",
     "output_type": "stream",
     "text": [
      "Berdasarkan teks yang diberikan, berikut langkah-langkah berinvestasi melalui bank:\n",
      "\n",
      "1. **Pahami Tujuan dan Profil Risiko Investasi:** Tentukan tujuan investasi (misalnya: dana pendidikan, pensiun, beli rumah), jangka waktu investasi (jangka pendek, menengah, atau panjang), dan profil risiko (konservatif, moderat, atau agresif). Bank biasanya akan melakukan penilaian profil risiko sebelum menawarkan produk investasi.\n",
      "\n",
      "2. **Konsultasi dengan Relationship Manager (RM) atau layanan customer:**  Diskusikan tujuan dan profil risiko Anda untuk mendapatkan saran produk investasi yang sesuai.\n",
      "\n",
      "3. **Pilih produk sesuai kebutuhan dan kemampuan:**  Pilih produk investasi yang sesuai dengan profil risiko, tujuan, dan kemampuan finansial Anda.\n",
      "\n",
      "4. **Lakukan transaksi dan pantau secara berkala:** Setelah memilih produk, lakukan transaksi investasi dan pantau kinerjanya secara berkala melalui aplikasi mobile banking atau internet banking.\n",
      "\n",
      "**Panduan Umum:**\n",
      "\n",
      "* Pastikan memahami risiko dari setiap produk.\n",
      "* Jangan hanya tergiur imbal hasil tinggi.\n",
      "\n",
      "Untuk memulai, Anda dapat datang ke cabang bank atau mengakses aplikasi bank mereka.\n"
     ]
    }
   ],
   "source": [
    "query = \"Bagaimana cara melakukan investasi?\"\n",
    "response = qa_chain.run(query)\n",
    "print(response)"
   ]
  },
  {
   "cell_type": "markdown",
   "id": "bc48a5ce-b2c3-4f6f-95f7-854bbfdd96be",
   "metadata": {},
   "source": [
    "# more than 1 file "
   ]
  },
  {
   "cell_type": "code",
   "execution_count": 23,
   "id": "3ad10411-3160-41ab-9388-47bbe939ada3",
   "metadata": {
    "tags": []
   },
   "outputs": [],
   "source": [
    "from langchain.document_loaders import PyPDFLoader\n",
    "from langchain.text_splitter import RecursiveCharacterTextSplitter\n",
    "from langchain.vectorstores import FAISS\n",
    "from langchain_google_genai import GoogleGenerativeAIEmbeddings\n",
    "\n",
    "# Load dua dokumen\n",
    "loader1 = PyPDFLoader(\"panduan_investasi.pdf\")\n",
    "loader2 = PyPDFLoader(\"panduan_membuat_rekening.pdf\")\n",
    "docs1 = loader1.load()\n",
    "docs2 = loader2.load()\n",
    "\n",
    "# Gabungkan semua dokumen\n",
    "all_docs = docs1 + docs2\n",
    "\n",
    "# Split menjadi potongan kecil\n",
    "text_splitter = RecursiveCharacterTextSplitter(chunk_size=500, chunk_overlap=50)\n",
    "split_docs = text_splitter.split_documents(all_docs)\n",
    "\n",
    "# Generate embedding\n",
    "embeddings = GoogleGenerativeAIEmbeddings(model=\"models/embedding-001\")\n",
    "vectorstore = FAISS.from_documents(split_docs, embeddings)\n"
   ]
  },
  {
   "cell_type": "code",
   "execution_count": 24,
   "id": "557ee970-75e5-40ba-9870-8c83c01a28d6",
   "metadata": {
    "tags": []
   },
   "outputs": [],
   "source": [
    "from langchain.chains import RetrievalQA\n",
    "from langchain_google_genai import ChatGoogleGenerativeAI\n",
    "\n",
    "retriever = vectorstore.as_retriever(search_kwargs={\"k\": 3})\n",
    "llm = ChatGoogleGenerativeAI(model=\"gemini-1.5-flash\", temperature=0.3)\n",
    "qa_chain = RetrievalQA.from_chain_type(llm=llm, retriever=retriever)\n"
   ]
  },
  {
   "cell_type": "code",
   "execution_count": 25,
   "id": "e58f6822-30a2-41a6-baa4-10fd44f29d63",
   "metadata": {
    "tags": []
   },
   "outputs": [
    {
     "name": "stdout",
     "output_type": "stream",
     "text": [
      "Untuk membuat rekening baru, Anda dapat datang langsung ke cabang bank dengan membawa dokumen yang dibutuhkan, atau mendaftar secara online melalui aplikasi mobile banking jika tersedia.  Anda perlu menyiapkan KTP (atau Paspor/KITAS untuk WNA), NPWP (jika ada), setoran awal sesuai jenis rekening yang dipilih, dan dokumen pendukung lainnya jika membuka rekening bisnis.  Setelah itu, Anda perlu memilih jenis rekening (tabungan, bisnis, atau valas), mengisi formulir pembukaan rekening, memverifikasi identitas, dan melakukan setoran awal.  Terakhir, Anda dapat mengaktifkan fasilitas tambahan jika diinginkan.\n"
     ]
    }
   ],
   "source": [
    "query = \"Bagaimana cara membuat akun?\"\n",
    "response = qa_chain.run(query)\n",
    "print(response)"
   ]
  },
  {
   "cell_type": "code",
   "execution_count": 26,
   "id": "4cdbe733-aba0-4b6e-b514-fd99ec5abc3d",
   "metadata": {
    "tags": []
   },
   "outputs": [
    {
     "name": "stdout",
     "output_type": "stream",
     "text": [
      "Berdasarkan informasi yang diberikan, untuk memulai investasi melalui bank, Anda perlu:\n",
      "\n",
      "1. **Membuka rekening:** Datang langsung ke cabang bank dengan membawa dokumen yang diperlukan, atau buka rekening melalui aplikasi/mobile banking jika tersedia.\n",
      "2. **Mengisi formulir dan verifikasi:** Isi formulir pembukaan rekening dan verifikasi identitas Anda oleh petugas bank atau melalui sistem online.\n",
      "3. **Melakukan setoran awal:** Lakukan setoran awal sesuai ketentuan jenis rekening yang Anda pilih.\n",
      "4. **Mengaktivasi fasilitas tambahan (jika ada):** Aktivasi fasilitas tambahan yang dibutuhkan untuk investasi.\n",
      "5. **Konsultasi dengan Relationship Manager (RM):** Konsultasikan pilihan investasi Anda dengan RM atau layanan customer service bank.\n",
      "6. **Lakukan penilaian profil risiko:**  Tentukan profil risiko investasi Anda.\n",
      "7. **Pilih produk investasi:** Pilih produk investasi yang sesuai dengan kebutuhan dan kemampuan Anda.\n",
      "8. **Lakukan transaksi dan pantau secara berkala:** Lakukan transaksi investasi dan pantau kinerjanya secara berkala melalui aplikasi mobile banking atau internet banking.\n",
      "\n",
      "\n",
      "Perlu diingat bahwa langkah-langkah di atas mungkin sedikit berbeda tergantung pada bank dan jenis investasi yang Anda pilih.  Informasi lebih detail sebaiknya Anda dapatkan langsung dari bank yang Anda tuju.\n"
     ]
    }
   ],
   "source": [
    "query = \"Bagaimana cara membuat akun dan mendaftarkan investasi di akun tersebut?\"\n",
    "response = qa_chain.run(query)\n",
    "print(response)"
   ]
  },
  {
   "cell_type": "code",
   "execution_count": null,
   "id": "2e5b90b3-d9d8-498e-8eed-980314c2644e",
   "metadata": {},
   "outputs": [],
   "source": []
  }
 ],
 "metadata": {
  "environment": {
   "kernel": "conda-base-py",
   "name": "workbench-notebooks.m129",
   "type": "gcloud",
   "uri": "us-docker.pkg.dev/deeplearning-platform-release/gcr.io/workbench-notebooks:m129"
  },
  "kernelspec": {
   "display_name": ".venv",
   "language": "python",
   "name": "python3"
  },
  "language_info": {
   "codemirror_mode": {
    "name": "ipython",
    "version": 3
   },
   "file_extension": ".py",
   "mimetype": "text/x-python",
   "name": "python",
   "nbconvert_exporter": "python",
   "pygments_lexer": "ipython3",
   "version": "3.11.12"
  }
 },
 "nbformat": 4,
 "nbformat_minor": 5
}
